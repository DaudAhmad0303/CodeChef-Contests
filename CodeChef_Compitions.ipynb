{
  "nbformat": 4,
  "nbformat_minor": 0,
  "metadata": {
    "colab": {
      "name": "CodeChef Compitions.ipynb",
      "provenance": [],
      "collapsed_sections": [],
      "authorship_tag": "ABX9TyM8ucLsdlXLiG6OqaagmSBb",
      "include_colab_link": true
    },
    "kernelspec": {
      "name": "python3",
      "display_name": "Python 3"
    },
    "language_info": {
      "name": "python"
    }
  },
  "cells": [
    {
      "cell_type": "markdown",
      "metadata": {
        "id": "view-in-github",
        "colab_type": "text"
      },
      "source": [
        "<a href=\"https://colab.research.google.com/github/DaudAhmad0303/CodeChef-Contests/blob/main/CodeChef_Compitions.ipynb\" target=\"_parent\"><img src=\"https://colab.research.google.com/assets/colab-badge.svg\" alt=\"Open In Colab\"/></a>"
      ]
    },
    {
      "cell_type": "markdown",
      "source": [
        "# **August Long 2022 Division 4 (Rated)**"
      ],
      "metadata": {
        "id": "cjymA2qXmxcF"
      }
    },
    {
      "cell_type": "markdown",
      "source": [
        "## **Maximum Submissions - MAXIMUMSUBS**"
      ],
      "metadata": {
        "id": "J73X_dVMpbNC"
      }
    },
    {
      "cell_type": "code",
      "execution_count": null,
      "metadata": {
        "id": "Lqonk_9jmDD9"
      },
      "outputs": [],
      "source": [
        "# cook your dish here\n",
        "T = int(input())\n",
        "for tc in range(T):\n",
        "    X = int(input())\n",
        "    \n",
        "    time_sec = X * 60\n",
        "    submissions = 0 \n",
        "    for i in range(0, time_sec - 5, 30):\n",
        "        submissions += 1\n",
        "    \n",
        "    print(submissions)\n",
        "    "
      ]
    },
    {
      "cell_type": "markdown",
      "source": [
        "## **Sale Season - SALESEASON**"
      ],
      "metadata": {
        "id": "eiJxCxLS5wqY"
      }
    },
    {
      "cell_type": "code",
      "source": [
        "# cook your dish here\n",
        "T = int(input())\n",
        "for tc in range(T):\n",
        "    X = int(input())\n",
        "    \n",
        "    if X > 5000:\n",
        "        print(X-500)\n",
        "    elif X > 1000:\n",
        "        print(X-100)\n",
        "    elif X > 100:\n",
        "        print(X-25)\n",
        "    else:\n",
        "        print(X)"
      ],
      "metadata": {
        "id": "o5vswNkj574H"
      },
      "execution_count": null,
      "outputs": []
    },
    {
      "cell_type": "markdown",
      "source": [
        "## **Make A and B equal - EQUALISE**"
      ],
      "metadata": {
        "id": "lZRUSCZc7_YE"
      }
    },
    {
      "cell_type": "code",
      "source": [
        "# cook your dish here\n",
        "T = int(input())\n",
        "for tc in range(T):\n",
        "    (a, b) = map(int, input().split(' '))\n",
        "    \n",
        "    if a == b:\n",
        "        print(\"YES\")\n",
        "    elif a > b:\n",
        "        temp = b\n",
        "        while temp < a:\n",
        "            temp *= 2\n",
        "            if temp == a:\n",
        "                print(\"YES\")\n",
        "                break\n",
        "        else:\n",
        "            print(\"NO\")\n",
        "    elif b > a:\n",
        "        temp = a\n",
        "        while temp < b:\n",
        "            temp *= 2\n",
        "            if temp == b:\n",
        "                print(\"YES\")\n",
        "                break\n",
        "        else:\n",
        "            print(\"NO\")\n",
        "            \n",
        "            "
      ],
      "metadata": {
        "id": "D_VTrsuD_zI2"
      },
      "execution_count": null,
      "outputs": []
    },
    {
      "cell_type": "markdown",
      "source": [
        "## **Two Trains - TWOTRAINS**"
      ],
      "metadata": {
        "id": "gZnv37BPNa_h"
      }
    },
    {
      "cell_type": "code",
      "source": [
        ""
      ],
      "metadata": {
        "id": "FIe-t7ZDNmPs"
      },
      "execution_count": null,
      "outputs": []
    }
  ]
}